{
 "cells": [
  {
   "cell_type": "markdown",
   "metadata": {},
   "source": [
    "<div class=\"alert alert-block\" style=\"border: 2px solid #1976D2;background-color:#E3F2FD;padding:5px;font-size:0.9em;\">\n",
    "본 자료는 저작권법 제25조 2항에 의해 보호를 받습니다. 본 자료를 외부에 공개하지 말아주세요.<br>\n",
    "본 강의만 잘 정리하면, 데이터 분석, 데이터 과학, 풀스택(백엔드, 프론트엔드) 개발 모두 가능합니다!<br>\n",
    "<b><a href=\"https://www.inflearn.com/roadmaps/49\">잔재미코딩 가장 빠른 풀스택 로드맵</a> 에서 본 강의 기반 최적화된 로드맵도 확인하실 수 있습니다</b></div>"
   ]
  },
  {
   "cell_type": "markdown",
   "metadata": {},
   "source": [
    "<div class=\"alert alert-block\" style=\"border: 2px solid #1976D2;background-color:#E3F2FD;padding:5px;font-size:0.9em;\">\n",
    "참고로, 전체 가장 빠른 최신 풀스택 로드맵을 우선 유투브 영상으로 요약하여 만들었습니다.<br>\n",
    "해당 영상을 참고하시면, 본 기술을 넘어서, 혼자서도 짧은 시간에 웹/앱 개발을 할 수 있는 로드맵도 이해하실 수 있으실꺼예요.<br>\n",
    "<a href=\"https://youtu.be/mTouChThxzA\">https://youtu.be/mTouChThxzA</a>\n",
    "</div>"
   ]
  },
  {
   "cell_type": "markdown",
   "metadata": {},
   "source": [
    "## 1. 문제를 풀며 빠르게 익숙해지는 파이썬 기본 프로그래밍1"
   ]
  },
  {
   "cell_type": "markdown",
   "metadata": {},
   "source": [
    "### Exercise 1. 출력\n",
    "* 화면에 \"Hello World!\"를 출력하세요."
   ]
  },
  {
   "cell_type": "code",
   "execution_count": 2,
   "metadata": {},
   "outputs": [
    {
     "name": "stdout",
     "output_type": "stream",
     "text": [
      "Hello World!\n"
     ]
    }
   ],
   "source": [
    "print (\"Hello World!\")"
   ]
  },
  {
   "cell_type": "code",
   "execution_count": 5,
   "metadata": {},
   "outputs": [
    {
     "name": "stdout",
     "output_type": "stream",
     "text": [
      "Hello World!\n"
     ]
    }
   ],
   "source": [
    "print(\"Hello World!\")"
   ]
  },
  {
   "cell_type": "markdown",
   "metadata": {},
   "source": [
    "### Exercise 2. 출력\n",
    "* 화면에 \"I don't like C language\"를 출력하세요."
   ]
  },
  {
   "cell_type": "code",
   "execution_count": 2,
   "metadata": {},
   "outputs": [
    {
     "name": "stdout",
     "output_type": "stream",
     "text": [
      "I don't like C language\n"
     ]
    }
   ],
   "source": [
    "print (\"I don't like C language\")"
   ]
  },
  {
   "cell_type": "code",
   "execution_count": 7,
   "metadata": {},
   "outputs": [
    {
     "name": "stdout",
     "output_type": "stream",
     "text": [
      "I don't like C language\n"
     ]
    }
   ],
   "source": [
    "print(\"I don't like C language\")"
   ]
  },
  {
   "cell_type": "markdown",
   "metadata": {},
   "source": [
    "### Exercise 3. 출력\n",
    "* print 함수를 사용하여 3.1415의 값을 출력하세요. \n",
    "  - 단, 소수점 아래는 첫 번째 자리까지만 표시되도록 하세요.\n",
    "\n",
    "Example <br>\n",
    "3.1"
   ]
  },
  {
   "cell_type": "code",
   "execution_count": 3,
   "metadata": {},
   "outputs": [
    {
     "name": "stdout",
     "output_type": "stream",
     "text": [
      "3.1\n"
     ]
    }
   ],
   "source": [
    "print(3.1)"
   ]
  },
  {
   "cell_type": "markdown",
   "metadata": {},
   "source": [
    "### Exercise 4. 형 변환\n",
    "* 문자열 '720'를 정수형으로 변환하라. 정수 100을 문자열 '100'으로 변환하라."
   ]
  },
  {
   "cell_type": "code",
   "execution_count": 11,
   "metadata": {},
   "outputs": [
    {
     "name": "stdout",
     "output_type": "stream",
     "text": [
      "<class 'int'>\n",
      "<class 'str'>\n"
     ]
    }
   ],
   "source": [
    "print(int(720))\n",
    "print(str(100))"
   ]
  },
  {
   "cell_type": "markdown",
   "metadata": {},
   "source": []
  },
  {
   "cell_type": "markdown",
   "metadata": {},
   "source": [
    "### Exercise 5. 연산\n",
    "* 2와 4 숫자를 변수에 넣고, 두 변수를 더한 값, 곱한 값, 나눈 값을 출력하세요.\n",
    "\n",
    "Example <br>\n",
    "6 <br>\n",
    "8 <br>\n",
    "0.5"
   ]
  },
  {
   "cell_type": "code",
   "execution_count": 3,
   "metadata": {},
   "outputs": [
    {
     "name": "stdout",
     "output_type": "stream",
     "text": [
      "6\n",
      "8\n",
      "0.5\n"
     ]
    }
   ],
   "source": [
    "num1 = 2\n",
    "num2 = 4\n",
    "\n",
    "print (num1 + num2)\n",
    "print (num1 * num2)\n",
    "print (num1 / num2)\n"
   ]
  },
  {
   "cell_type": "markdown",
   "metadata": {},
   "source": [
    "### Exercise 6. 연산\n",
    "* 밑이 6 이고, 지수가 2 일 때 거듭제곱 값을 출력하라.\n",
    "  - 6의 2승\n",
    "\n",
    "Example <br>\n",
    "36"
   ]
  },
  {
   "cell_type": "code",
   "execution_count": 12,
   "metadata": {},
   "outputs": [
    {
     "name": "stdout",
     "output_type": "stream",
     "text": [
      "36\n"
     ]
    }
   ],
   "source": [
    "print(6**2)"
   ]
  },
  {
   "cell_type": "markdown",
   "metadata": {},
   "source": [
    "### Exercise 7.  입력과 출력\n",
    "* 사용자로부터 두 개의 숫자를 입력받은 후 두 개의 숫자를 더한 값을 각각 출력하는 프로그램을 작성하세요.\n",
    "\n",
    "Example<br>\n",
    "INPUT: 2 and 4 <br>\n",
    "OUTPUT: <br>\n",
    "\n",
    "6"
   ]
  },
  {
   "cell_type": "code",
   "execution_count": 2,
   "metadata": {},
   "outputs": [
    {
     "name": "stdout",
     "output_type": "stream",
     "text": [
      "INPUT:2and4\n",
      "OUTPUT: 24\n"
     ]
    }
   ],
   "source": [
    "a = input()\n",
    "b = input()\n",
    "print(\"INPUT:\" + a + \"and\" + b)\n",
    "print(\"OUTPUT:\", a + b)"
   ]
  },
  {
   "cell_type": "markdown",
   "metadata": {},
   "source": [
    "### Exercise 8. 입력과 출력\n",
    "* 사용자로부터 두 개의 숫자를 입력받은 후 두 개의 숫자를 더한 값, 곱한 값, 나눈 값을 각각 출력하는 프로그램을 작성하세요.\n",
    "\n",
    "Example<br>\n",
    "INPUT: 2 and 4 <br>\n",
    "OUTPUT: <br>\n",
    "\n",
    "6 <br>\n",
    "8 <br>\n",
    "0.5"
   ]
  },
  {
   "cell_type": "code",
   "execution_count": 12,
   "metadata": {},
   "outputs": [
    {
     "name": "stdout",
     "output_type": "stream",
     "text": [
      "INPUT:2and4\n",
      "OUTPUT:\n",
      "6\n",
      "8\n",
      "0.5\n"
     ]
    }
   ],
   "source": [
    "a = int(input())\n",
    "b = int(input())\n",
    "print(\"INPUT:\" + str(a) + \"and\" + str(b))\n",
    "print(\"OUTPUT:\")\n",
    "print(a + b)\n",
    "print(a * b)\n",
    "print(a / b)"
   ]
  },
  {
   "cell_type": "markdown",
   "metadata": {},
   "source": [
    "### Exercise 9.  입력과 출력\n",
    "* 사용자로부터 두 개의 숫자를 입력받은 후 두 개의 숫자를 더한 값, 곱한 값, 나눈 값, 나눈 몫, 나머지 값을 각각 출력하는 프로그램을 작성하세요.\n",
    "\n",
    "Example<br>\n",
    "INPUT: 4 and 4 <br>\n",
    "OUTPUT: <br>\n",
    "\n",
    "8 <br>\n",
    "16 <br>\n",
    "1.0 <br>\n",
    "1 <br>\n",
    "0"
   ]
  },
  {
   "cell_type": "code",
   "execution_count": 13,
   "metadata": {},
   "outputs": [
    {
     "name": "stdout",
     "output_type": "stream",
     "text": [
      "INPUT:4and4\n",
      "OUTPUT:\n",
      "8\n",
      "16\n",
      "1.0\n",
      "1\n",
      "0\n"
     ]
    }
   ],
   "source": [
    "a = int(input())\n",
    "b = int(input())\n",
    "print(\"INPUT:\" + str(a) + \"and\" + str(b))\n",
    "print(\"OUTPUT:\")\n",
    "print(a + b)\n",
    "print(a * b)\n",
    "print(a / b)\n",
    "print(a // b)\n",
    "print(a % b)"
   ]
  },
  {
   "cell_type": "markdown",
   "metadata": {},
   "source": [
    "### Exercise 10.  입력과 출력\n",
    "* 사용자로부터 두 개의 숫자를 입력받은 후 두 개의 숫자를 더한 값, 곱한 값, 나눈 값, 나눈 몫, 나머지 값을 각각 다음과 같이 출력하는 프로그램을 작성하세요.\n",
    "\n",
    "Example<br>\n",
    "INPUT: 4 and 4 <br>\n",
    "OUTPUT: <br>\n",
    "\n",
    "4 + 4 = 8 <br>\n",
    "4 * 4 = 16 <br>\n",
    "4 / 4 = 1 <br>\n",
    "4 // 4 = 1 <br>\n",
    "4 % 4 = 0 <br>"
   ]
  },
  {
   "cell_type": "code",
   "execution_count": 15,
   "metadata": {},
   "outputs": [
    {
     "name": "stdout",
     "output_type": "stream",
     "text": [
      "INPUT:4and4\n",
      "OUPUT:\n",
      "4+4=8\n",
      "4*4=16\n",
      "4/4=1.0\n",
      "4//4=1\n",
      "4%4=0\n"
     ]
    }
   ],
   "source": [
    "a = int(input())\n",
    "b = int(input())\n",
    "print(\"INPUT:\" + str(a) + \"and\" + str(b))\n",
    "print(\"OUPUT:\")\n",
    "print(str(a) + \"+\" + str(b) + \"=\" + str(a+b))\n",
    "print(str(a) + \"*\" + str(b) + \"=\" + str(a*b))\n",
    "print(str(a) + \"/\" + str(b) + \"=\" + str(a/b))\n",
    "print(str(a) + \"//\" + str(b) + \"=\" + str(a//b))\n",
    "print(str(a) + \"%\" + str(b) + \"=\" + str(a%b))"
   ]
  },
  {
   "cell_type": "markdown",
   "metadata": {},
   "source": [
    "### Exercise 11.  입력과 출력\n",
    "* 사용자로부터 두 개의 숫자를 입력받은 후 두 개의 숫자를 더한 값, 곱한 값, 나눈 값, 나눈 몫, 나머지 값을 각각 다음과 같이 출력하는 프로그램을 작성하세요.\n",
    "  - 단, 나눈 값은 소숫점 첫번째 자리까지만 출력하세요.\n",
    "\n",
    "Example<br>\n",
    "INPUT: 5 and 4 <br>\n",
    "OUTPUT: <br>\n",
    "\n",
    "5 + 4 = 9 <br>\n",
    "5 + 4 = 20 <br>\n",
    "5 / 4 = 1.2 <br>\n",
    "5 // 4 = 1 <br>\n",
    "5 % 4 = 1 <br>"
   ]
  },
  {
   "cell_type": "code",
   "execution_count": 17,
   "metadata": {},
   "outputs": [
    {
     "name": "stdout",
     "output_type": "stream",
     "text": [
      "INPUT:5and4\n",
      "OUPUT:\n",
      "5+4=9\n",
      "5*4=20\n",
      "5/4=1.25\n",
      "5//4=1\n",
      "5%4=1\n"
     ]
    }
   ],
   "source": [
    "a = int(input())\n",
    "b = int(input())\n",
    "print(\"INPUT:\" + str(a) + \"and\" + str(b))\n",
    "print(\"OUPUT:\")\n",
    "print(str(a) + \"+\" + str(b) + \"=\" + str(a+b))\n",
    "print(str(a) + \"*\" + str(b) + \"=\" + str(a*b))\n",
    "print(str(a) + \"/\" + str(b) + \"=\" + str(a/b))\n",
    "print(str(a) + \"//\" + str(b) + \"=\" + str(a//b))\n",
    "print(str(a) + \"%\" + str(b) + \"=\" + str(a%b))"
   ]
  },
  {
   "cell_type": "markdown",
   "metadata": {},
   "source": [
    "<div class=\"alert alert-block\" style=\"border: 2px solid #1976D2;background-color:#E3F2FD;padding:5px;font-size:0.9em;\">\n",
    "본 자료는 저작권법 제25조 2항에 의해 보호를 받습니다. 본 자료를 외부에 공개하지 말아주세요.<br>\n",
    "본 강의만 잘 정리하면, 데이터 분석, 데이터 과학, 풀스택(백엔드, 프론트엔드) 개발 모두 가능합니다!<br>\n",
    "<b><a href=\"https://school.fun-coding.org/\">잔재미코딩</a> 에서 본 강의 기반 최적화된 로드맵도 확인하실 수 있습니다</b></div>"
   ]
  }
 ],
 "metadata": {
  "kernelspec": {
   "display_name": "Python 3 (ipykernel)",
   "language": "python",
   "name": "python3"
  },
  "language_info": {
   "codemirror_mode": {
    "name": "ipython",
    "version": 3
   },
   "file_extension": ".py",
   "mimetype": "text/x-python",
   "name": "python",
   "nbconvert_exporter": "python",
   "pygments_lexer": "ipython3",
   "version": "3.11.5"
  },
  "nbTranslate": {
   "displayLangs": [
    "*"
   ],
   "hotkey": "alt-t",
   "langInMainMenu": true,
   "sourceLang": "en",
   "targetLang": "fr",
   "useGoogleTranslate": true
  }
 },
 "nbformat": 4,
 "nbformat_minor": 2
}
